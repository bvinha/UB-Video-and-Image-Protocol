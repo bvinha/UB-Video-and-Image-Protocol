{
  "nbformat": 4,
  "nbformat_minor": 0,
  "metadata": {
    "colab": {
      "provenance": []
    },
    "kernelspec": {
      "name": "python3",
      "display_name": "Python 3"
    },
    "language_info": {
      "name": "python"
    }
  },
  "cells": [
    {
      "cell_type": "markdown",
      "source": [
        "## **Step 1. Calculate annotation time, based on time of the start of the video and on the seconds of annotation frame**\n",
        "\n",
        "@author: beatriz vinha\n",
        "If you encounter any problems, please contact beatrizmouravinha@ub.edu\n",
        "\n",
        "To run the code below, you will need two files:\n",
        "\n",
        "•\tBIIGLE Video annotation report file (in .csv), exported from BIIGLE, with:\n",
        "  - an added column with \"start_time\" containing the start time of the video annotated and\n",
        "  - the squared brackets (\"[  ]\") removed from all the rows in the \"frames\" column  \n",
        "•\tVideo metadata file (in .csv), based on the USBL navigation, with date and time on separate columns and with time displayed in “HHMMSS” format.\n"
      ],
      "metadata": {
        "id": "niIpFbA-rvmT"
      }
    },
    {
      "cell_type": "code",
      "source": [
        "##Run ONLY if you want to connect to Google drive and if your files are stored there\n",
        "\n",
        "#from google.colab import drive\n",
        "#drive.mount('/content/drive')"
      ],
      "metadata": {
        "id": "jdsx7kUPzfJR"
      },
      "execution_count": null,
      "outputs": []
    },
    {
      "cell_type": "code",
      "source": [
        "from google.colab import data_table\n",
        "data_table.enable_dataframe_formatter() #to view df as interactive tables"
      ],
      "metadata": {
        "id": "hpF38cgQXaBi"
      },
      "execution_count": null,
      "outputs": []
    },
    {
      "cell_type": "code",
      "source": [
        "import pandas as pd\n",
        "\n",
        "#import biigle annotations file\n",
        "#to connect to folder in google drive \"/content/drive/MyDrive/PATHTOFOLDER\"\n",
        "biigle_raw = pd.read_csv('/biigle_annot.csv')\n",
        "\n",
        "\n",
        "#import video metadata file based on the USBL navigation\n",
        "rov_nav = pd.read_csv('/rov_navigation.csv', sep = \",\",\n",
        "                      dtype={'time':float}) #moving average clean nav\n"
      ],
      "metadata": {
        "collapsed": true,
        "id": "Ap-FIyicsstv"
      },
      "execution_count": null,
      "outputs": []
    },
    {
      "cell_type": "code",
      "source": [
        "#convert start_time and frame_secs to timedelta\n",
        "biigle_raw['start_time'] = pd.to_timedelta(pd.to_datetime(biigle_raw['start_time']).dt.strftime('%H:%M:%S'))\n",
        "biigle_raw['frames'] = pd.to_timedelta(biigle_raw['frames'], unit = 'seconds')\n",
        "\n",
        "#check - start_time and frames_sec must be timedelta\n",
        "biigle_raw.dtypes"
      ],
      "metadata": {
        "id": "rEbrbs2HsuWF"
      },
      "execution_count": null,
      "outputs": []
    },
    {
      "cell_type": "code",
      "source": [
        "#sum start time of the video with frames_sec to obtain new column with annotation time\n",
        "biigle_raw['annotation_time'] = biigle_raw['start_time']+biigle_raw['frames']"
      ],
      "metadata": {
        "id": "wl6v-I7errQ8",
        "collapsed": true
      },
      "execution_count": null,
      "outputs": []
    },
    {
      "cell_type": "markdown",
      "source": [
        "In order to run the rest of the code, the 'annotation_time' column needs to be in a specific format, in this case, as integer (float64) values. For example, \"16:53:47\" should be represented as \"165347\". So, in the lines below, this will be done manually and a new column will be created (time)."
      ],
      "metadata": {
        "id": "o-HaP-ixr2KA"
      }
    },
    {
      "cell_type": "code",
      "source": [
        "# Convert annotation_time to total seconds, then format manually to HHMMSS\n",
        "biigle_raw['hours'] = biigle_raw['annotation_time'].dt.components['hours']\n",
        "biigle_raw['minutes'] = biigle_raw['annotation_time'].dt.components['minutes']\n",
        "biigle_raw['seconds'] = biigle_raw['annotation_time'].dt.components['seconds']"
      ],
      "metadata": {
        "id": "2hWIVrRTmnV8"
      },
      "execution_count": null,
      "outputs": []
    },
    {
      "cell_type": "code",
      "source": [
        "# Create 'time' column in HHMMSS format\n",
        "biigle_raw['time'] = (biigle_raw['hours'] * 10000 + biigle_raw['minutes'] * 100 + biigle_raw['seconds']).astype(float)"
      ],
      "metadata": {
        "id": "JlH4Erj9nx_J"
      },
      "execution_count": null,
      "outputs": []
    },
    {
      "cell_type": "markdown",
      "source": [
        "## **2. Merge timestamped annotations with ROV navigation**"
      ],
      "metadata": {
        "id": "OAAO_fy_x6u_"
      }
    },
    {
      "cell_type": "code",
      "source": [
        "#time must be float64 for both dataframes\n",
        "rov_nav.dtypes\n",
        "biigle_raw.dtypes #column 'time' is the same as 'annotation_time' but as HHMMSS format"
      ],
      "metadata": {
        "id": "baF-R7sT0Tnp",
        "colab": {
          "base_uri": "https://localhost:8080/",
          "height": 455
        },
        "collapsed": true,
        "outputId": "5b926e7a-9169-4244-d5a4-b654bebe6c87"
      },
      "execution_count": null,
      "outputs": [
        {
          "output_type": "execute_result",
          "data": {
            "text/plain": [
              "label_name                  object\n",
              "label_hierarchy             object\n",
              "video_filename              object\n",
              "shape_name                  object\n",
              "date_video                  object\n",
              "start_time         timedelta64[ns]\n",
              "frames             timedelta64[ns]\n",
              "annotation_time    timedelta64[ns]\n",
              "hours                        int64\n",
              "minutes                      int64\n",
              "seconds                      int64\n",
              "time                       float64\n",
              "dtype: object"
            ],
            "text/html": [
              "<div>\n",
              "<style scoped>\n",
              "    .dataframe tbody tr th:only-of-type {\n",
              "        vertical-align: middle;\n",
              "    }\n",
              "\n",
              "    .dataframe tbody tr th {\n",
              "        vertical-align: top;\n",
              "    }\n",
              "\n",
              "    .dataframe thead th {\n",
              "        text-align: right;\n",
              "    }\n",
              "</style>\n",
              "<table border=\"1\" class=\"dataframe\">\n",
              "  <thead>\n",
              "    <tr style=\"text-align: right;\">\n",
              "      <th></th>\n",
              "      <th>0</th>\n",
              "    </tr>\n",
              "  </thead>\n",
              "  <tbody>\n",
              "    <tr>\n",
              "      <th>label_name</th>\n",
              "      <td>object</td>\n",
              "    </tr>\n",
              "    <tr>\n",
              "      <th>label_hierarchy</th>\n",
              "      <td>object</td>\n",
              "    </tr>\n",
              "    <tr>\n",
              "      <th>video_filename</th>\n",
              "      <td>object</td>\n",
              "    </tr>\n",
              "    <tr>\n",
              "      <th>shape_name</th>\n",
              "      <td>object</td>\n",
              "    </tr>\n",
              "    <tr>\n",
              "      <th>date_video</th>\n",
              "      <td>object</td>\n",
              "    </tr>\n",
              "    <tr>\n",
              "      <th>start_time</th>\n",
              "      <td>timedelta64[ns]</td>\n",
              "    </tr>\n",
              "    <tr>\n",
              "      <th>frames</th>\n",
              "      <td>timedelta64[ns]</td>\n",
              "    </tr>\n",
              "    <tr>\n",
              "      <th>annotation_time</th>\n",
              "      <td>timedelta64[ns]</td>\n",
              "    </tr>\n",
              "    <tr>\n",
              "      <th>hours</th>\n",
              "      <td>int64</td>\n",
              "    </tr>\n",
              "    <tr>\n",
              "      <th>minutes</th>\n",
              "      <td>int64</td>\n",
              "    </tr>\n",
              "    <tr>\n",
              "      <th>seconds</th>\n",
              "      <td>int64</td>\n",
              "    </tr>\n",
              "    <tr>\n",
              "      <th>time</th>\n",
              "      <td>float64</td>\n",
              "    </tr>\n",
              "  </tbody>\n",
              "</table>\n",
              "</div><br><label><b>dtype:</b> object</label>"
            ]
          },
          "metadata": {},
          "execution_count": 125
        }
      ]
    },
    {
      "cell_type": "code",
      "source": [
        "# Georeference all biigle annotations by merging df based on time\n",
        "allannotations_georef = pd.merge_asof(biigle_raw.sort_values('time'), rov_nav.sort_values('time'),\n",
        "                                      on=\"time\", direction=\"nearest\")"
      ],
      "metadata": {
        "id": "1KNpM8sAoSUa",
        "collapsed": true
      },
      "execution_count": null,
      "outputs": []
    },
    {
      "cell_type": "markdown",
      "source": [
        "## **3. Substrate Type Annotations**"
      ],
      "metadata": {
        "id": "yD8tsVTvlfNe"
      }
    },
    {
      "cell_type": "code",
      "source": [
        "# Extract WholeFrame annotations with START/END markers (substrate type, parts of the video to remove, etc.)\n",
        "wholeframe_annotations = allannotations_georef[allannotations_georef['shape_name'] == 'WholeFrame']\n",
        "\n",
        "# Delete non-useful columns\n",
        "wholeframe_annotations.drop(['lat','lng', 'gps_altitude'], axis=1, inplace=True)"
      ],
      "metadata": {
        "id": "vBMFmcQ6lel6"
      },
      "execution_count": null,
      "outputs": []
    },
    {
      "cell_type": "code",
      "source": [
        "# Extracting the relevant rows for START and END based on \"START\" and \"END\" in the label_hierarchy\n",
        "start_annotations = wholeframe_annotations[wholeframe_annotations['label_hierarchy'].str.contains('START', case=False)]\n",
        "end_annotations = wholeframe_annotations[wholeframe_annotations['label_hierarchy'].str.contains('END', case=False)]"
      ],
      "metadata": {
        "id": "SIC0np0mT1lA"
      },
      "execution_count": null,
      "outputs": []
    },
    {
      "cell_type": "code",
      "source": [
        "\n",
        "# Create a list of intervals between START and END\n",
        "intervals = []\n",
        "for _, start_row in start_annotations.iterrows():\n",
        "    # Find the corresponding END for each START\n",
        "    #category = ' > '.join(start_row['label_hierarchy'].split('>')[:-1]).strip()  # Extract category from label_hierarchy (excluding START/END)\n",
        "    category = start_row['label_hierarchy'].split('>')[0].strip()\n",
        "    start_time = start_row['time']\n",
        "\n",
        "    # Find the corresponding END time for the same category (ensure it's after the START time)\n",
        "    matching_end = end_annotations[(end_annotations['time'] > start_time) &\n",
        "                                   (end_annotations['label_hierarchy'].str.contains(category, case=False))]\n",
        "\n",
        "    if not matching_end.empty:\n",
        "        end_time = matching_end.iloc[0]['time']\n",
        "        # Append the interval (start_time, end_time, category)\n",
        "        intervals.append((start_time, end_time, category))\n",
        "\n",
        "# Assign WholeFrame labels to the navigation data based on intervals\n",
        "def assign_wholeframe_labels(rov_nav, intervals):\n",
        "    # Adding a new column to store the WholeFrame labels (e.g., substrate type/Not considered for analysis)\n",
        "    rov_nav['WholeFrame'] = None\n",
        "\n",
        "    # Iterate over each interval (start_time, end_time, category)\n",
        "    for start_time, end_time, category in intervals:\n",
        "        # Assign the category to the corresponding rows in the navigation data\n",
        "        mask = (rov_nav['time'] >= start_time) & (rov_nav['time'] <= end_time)\n",
        "        rov_nav.loc[mask, 'WholeFrame'] = category\n",
        "\n",
        "    return rov_nav"
      ],
      "metadata": {
        "id": "7nB8eXrMT33S"
      },
      "execution_count": null,
      "outputs": []
    },
    {
      "cell_type": "code",
      "source": [
        "# Add the continous annotation sequences to rov navigation\n",
        "sequences_nav = assign_wholeframe_labels(rov_nav, intervals)\n",
        "sequences_nav_cleaned = sequences_nav.dropna(subset=['WholeFrame']) #remove empty rows"
      ],
      "metadata": {
        "id": "oRhldpiPT6qi"
      },
      "execution_count": null,
      "outputs": []
    },
    {
      "cell_type": "code",
      "source": [
        "# Merge full annotations df with the navigation data\n",
        "sequenced_annotations = pd.merge_asof(sequences_nav_cleaned, wholeframe_annotations, on='time', direction='nearest')"
      ],
      "metadata": {
        "id": "APziVbIjT9KW"
      },
      "execution_count": null,
      "outputs": []
    },
    {
      "cell_type": "code",
      "source": [
        "sequenced_annotations"
      ],
      "metadata": {
        "id": "Y3aPR0Mearu5"
      },
      "execution_count": null,
      "outputs": []
    },
    {
      "cell_type": "markdown",
      "source": [
        "## **4. Clean and Export Final Files**"
      ],
      "metadata": {
        "id": "Qlo-jahGUCGf"
      }
    },
    {
      "cell_type": "code",
      "source": [
        "# Delete non-useful columns\n",
        "allannotations_georef.drop(['frames','hours', 'minutes', 'seconds', 'time'], axis=1, inplace=True)\n",
        "sequenced_annotations.drop(['frames', 'hours', 'minutes', 'seconds'], axis=1, inplace=True)"
      ],
      "metadata": {
        "id": "EJBa-idEUFT_"
      },
      "execution_count": null,
      "outputs": []
    },
    {
      "cell_type": "code",
      "source": [
        "# Divide into separate df annotations of species, substrate type and moments to discard in the transect\n",
        "species_annotations = allannotations_georef[allannotations_georef['shape_name'] != 'WholeFrame']\n",
        "substrate_type_annotations = sequenced_annotations[sequenced_annotations['WholeFrame'] == 'Substrate Type']\n",
        "transect_to_discard  = sequenced_annotations[sequenced_annotations['WholeFrame'] != 'Substrate Type']"
      ],
      "metadata": {
        "id": "z8Eua78mUIL0"
      },
      "execution_count": null,
      "outputs": []
    },
    {
      "cell_type": "code",
      "source": [
        "##Download all files\n",
        "allannotations_georef.to_csv('/allannotations_georef.csv', index=False)\n",
        "species_annotations.to_csv('/species_annotations.csv', index=False)\n",
        "substrate_type_annotations.to_csv('/substrate_type_annotations.csv', index=False)\n",
        "transect_to_discard.to_csv('/transect_to_discard.csv', index=False)"
      ],
      "metadata": {
        "id": "47uEzPxbUKdR"
      },
      "execution_count": null,
      "outputs": []
    }
  ]
}