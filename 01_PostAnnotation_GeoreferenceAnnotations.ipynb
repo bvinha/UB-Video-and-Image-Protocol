{
  "nbformat": 4,
  "nbformat_minor": 0,
  "metadata": {
    "colab": {
      "provenance": [],
      "mount_file_id": "1thpGVz4QbxoJaOT17C_RAn8vK0CQhB0o",
      "authorship_tag": "ABX9TyNGaoOV9Y2JpghK7V8l+Img",
      "include_colab_link": true
    },
    "kernelspec": {
      "name": "python3",
      "display_name": "Python 3"
    },
    "language_info": {
      "name": "python"
    }
  },
  "cells": [
    {
      "cell_type": "markdown",
      "metadata": {
        "id": "view-in-github",
        "colab_type": "text"
      },
      "source": [
        "<a href=\"https://colab.research.google.com/github/bvinha/UB-Video-and-Image-Protocol/blob/main/01_PostAnnotation_GeoreferenceAnnotations.ipynb\" target=\"_parent\"><img src=\"https://colab.research.google.com/assets/colab-badge.svg\" alt=\"Open In Colab\"/></a>"
      ]
    },
    {
      "cell_type": "markdown",
      "source": [
        "**Autor: Beatriz Vinha**\n",
        "\n",
        "**Contact:** beatrizmouravinha@ub.edu\n",
        "\n",
        "**Purpose of this code:**\n",
        "1. Calculate annotation time, for video annotations done using BIIGLE's video annotation tool, based on the start time of the video.\n",
        "2. Combine timestamped annotations with video metadata.\n",
        "3. Create continous timestamped files to identify sequences in the navigation for substrate type categories and footage to be removed from the  video transect.\n",
        "\n",
        "**To run this code, you will require:**\n",
        "\n",
        "•\tBIIGLE Video Annotation Report file (in .csv), exported from BIIGLE, with the following modifications:\n",
        "  - an added column with \"start_time\" containing the start time of the annotated video\n",
        "  - the \"frames\" column must have the squared brackets (\"[  ]\") removed from all rows\n",
        "\n",
        "•\tVideo metadata file (in .csv), containing lat, lon and depth, based on the USBL navigation:\n",
        "  - with date and time presented on separate columns\n",
        "  - with time displayed in “HHMMSS” format.\n"
      ],
      "metadata": {
        "id": "niIpFbA-rvmT"
      }
    },
    {
      "cell_type": "markdown",
      "source": [
        "# Step 1: Calculate Annotation Time"
      ],
      "metadata": {
        "id": "yj4klQokHHpy"
      }
    },
    {
      "cell_type": "code",
      "source": [
        "##Optional\n",
        "#Connect Google Collab to Google Drive\n",
        "#Run if files are stored on google Drive\n",
        "\n",
        "from google.colab import drive\n",
        "drive.mount('/content/drive')"
      ],
      "metadata": {
        "id": "jdsx7kUPzfJR"
      },
      "execution_count": null,
      "outputs": []
    },
    {
      "cell_type": "code",
      "source": [
        "#Import libraries\n",
        "\n",
        "#to enable df as interactive tables in google collab\n",
        "from google.colab import data_table\n",
        "data_table.enable_dataframe_formatter()\n",
        "\n",
        "import pandas as pd"
      ],
      "metadata": {
        "id": "hpF38cgQXaBi"
      },
      "execution_count": null,
      "outputs": []
    },
    {
      "cell_type": "code",
      "source": [
        "#import biigle annotation report\n",
        "biigle_raw = pd.read_csv('/content/biigle_annot.csv') ###CHANGE TO YOUR FILE DIRECTORY###\n",
        "\n",
        "#import video metadata file based on the ROV navigation data\n",
        "#'time' column must be in float format as HHMMSS.\n",
        "rov_nav = pd.read_csv('/content/rov_navigation.csv', sep = \",\", dtype={'time':float}) ###CHANGE TO YOUR FILE DIRECTORY###\n"
      ],
      "metadata": {
        "collapsed": true,
        "id": "Ap-FIyicsstv"
      },
      "execution_count": null,
      "outputs": []
    },
    {
      "cell_type": "code",
      "source": [
        "#convert 'start_time' and 'frames' columns to timedelta\n",
        "###CHANGE COLUMN NAMES, IF NEEDED###\n",
        "biigle_raw['start_time'] = pd.to_timedelta(pd.to_datetime(biigle_raw['start_time']).dt.strftime('%H:%M:%S'))\n",
        "biigle_raw['frames'] = pd.to_timedelta(biigle_raw['frames'], unit = 'seconds')\n",
        "\n",
        "##run line below to check if \"start_time\" and \"frames_sec\" are as timedelta\n",
        "#biigle_raw.dtypes"
      ],
      "metadata": {
        "id": "rEbrbs2HsuWF"
      },
      "execution_count": null,
      "outputs": []
    },
    {
      "cell_type": "code",
      "source": [
        "#add 'start time' and 'frames' to calculate annotation time\n",
        "biigle_raw['annotation_time'] = biigle_raw['start_time']+biigle_raw['frames']"
      ],
      "metadata": {
        "id": "wl6v-I7errQ8",
        "collapsed": true
      },
      "execution_count": null,
      "outputs": []
    },
    {
      "cell_type": "markdown",
      "source": [
        "To run the rest of the code, the 'annotation_time' column in the video annotation reports has to be in the same format as the video metadata 'time' column, in this case as \"HHMMSS\" (float). So, we first manually convert 'annotation_time'to the required format before running the rest of the code."
      ],
      "metadata": {
        "id": "o-HaP-ixr2KA"
      }
    },
    {
      "cell_type": "code",
      "source": [
        "#extract hours, minutes, and seconds from 'annotation_time'\n",
        "biigle_raw['hours'] = biigle_raw['annotation_time'].dt.components['hours']\n",
        "biigle_raw['minutes'] = biigle_raw['annotation_time'].dt.components['minutes']\n",
        "biigle_raw['seconds'] = biigle_raw['annotation_time'].dt.components['seconds']"
      ],
      "metadata": {
        "id": "2hWIVrRTmnV8"
      },
      "execution_count": null,
      "outputs": []
    },
    {
      "cell_type": "code",
      "source": [
        "#create a new column 'time' in HHMMSS format as float (e.g., 104347 for 10:53:47)\n",
        "biigle_raw['time'] = (biigle_raw['hours'] * 10000 + biigle_raw['minutes'] * 100 + biigle_raw['seconds']).astype(float)\n",
        "\n",
        "#you run the lines below to check if 'time' columns in both df are as float64\n",
        "##rov_nav.dtypes\n",
        "##biigle_raw.dtypes"
      ],
      "metadata": {
        "id": "JlH4Erj9nx_J"
      },
      "execution_count": null,
      "outputs": []
    },
    {
      "cell_type": "markdown",
      "source": [
        "## Step 2: Merge timestamped annotations with video metadata"
      ],
      "metadata": {
        "id": "OAAO_fy_x6u_"
      }
    },
    {
      "cell_type": "code",
      "source": [
        "#merge video annotations with navigation data using the 'time' column for georeferencing\n",
        "###CHANGE COLUMN NAMES, IF NEEDED###\n",
        "allannotations_georef = pd.merge_asof(biigle_raw.sort_values('time'), rov_nav.sort_values('time'),\n",
        "                                      on=\"time\", direction=\"nearest\")\n",
        "#view result\n",
        "allannotations_georef"
      ],
      "metadata": {
        "id": "1KNpM8sAoSUa",
        "collapsed": true
      },
      "execution_count": null,
      "outputs": []
    },
    {
      "cell_type": "markdown",
      "source": [
        "## Step 3: Create sequenced annotations of Substrate Type and Footage to discard"
      ],
      "metadata": {
        "id": "yD8tsVTvlfNe"
      }
    },
    {
      "cell_type": "code",
      "source": [
        "#extract WholeFrame annotations with START/END markers (substrate type, parts of the video to remove, etc.)\n",
        "wholeframe_annotations = allannotations_georef[allannotations_georef['shape_name'] == 'WholeFrame']\n",
        "\n",
        "#delete non-useful columns to avoid duplicates\n",
        "###CHANGE COLUMN NAMES, IF NEEDED###\n",
        "wholeframe_annotations.drop(['lat','lng', 'gps_altitude'], axis=1, inplace=True)"
      ],
      "metadata": {
        "id": "vBMFmcQ6lel6"
      },
      "execution_count": null,
      "outputs": []
    },
    {
      "cell_type": "code",
      "source": [
        "#extract the relevant rows for START and END in the label_hierarchy\n",
        "start_annotations = wholeframe_annotations[wholeframe_annotations['label_hierarchy'].str.contains('START', case=False)]\n",
        "end_annotations = wholeframe_annotations[wholeframe_annotations['label_hierarchy'].str.contains('END', case=False)]"
      ],
      "metadata": {
        "id": "SIC0np0mT1lA"
      },
      "execution_count": null,
      "outputs": []
    },
    {
      "cell_type": "code",
      "source": [
        "\n",
        "#create a list of sequenced intervals between START and END\n",
        "intervals = []\n",
        "for _, start_row in start_annotations.iterrows():\n",
        "    #find the corresponding END for each START\n",
        "    category = start_row['label_hierarchy'].split('>')[0].strip()\n",
        "    start_time = start_row['time']\n",
        "    #find the corresponding END time for the same category\n",
        "    matching_end = end_annotations[(end_annotations['time'] > start_time) &\n",
        "                                   (end_annotations['label_hierarchy'].str.contains(category, case=False))]\n",
        "    if not matching_end.empty:\n",
        "        end_time = matching_end.iloc[0]['time']\n",
        "        #append the interval (start_time, end_time, category)\n",
        "        intervals.append((start_time, end_time, category))\n",
        "\n",
        "#Function to assign \"WholeFrame\" (substrate type, etc.) to navigation data\n",
        "def assign_wholeframe_labels(rov_nav, intervals):\n",
        "    #adding a new column to store the WholeFrame labels\n",
        "    rov_nav['WholeFrame'] = None\n",
        "\n",
        "    #iterate over each interval (start_time, end_time, category) and\n",
        "    #assign the correspoding category in the navigation data\n",
        "    for start_time, end_time, category in intervals:\n",
        "        mask = (rov_nav['time'] >= start_time) & (rov_nav['time'] <= end_time)\n",
        "        rov_nav.loc[mask, 'WholeFrame'] = category\n",
        "\n",
        "    return rov_nav\n",
        "\n",
        "sequences_nav = assign_wholeframe_labels(rov_nav, intervals)"
      ],
      "metadata": {
        "id": "7nB8eXrMT33S"
      },
      "execution_count": null,
      "outputs": []
    },
    {
      "cell_type": "code",
      "source": [
        "#remove rows without WholeFrame labels (i.e., rows not part of the identified intervals)\n",
        "sequences_nav_cleaned = sequences_nav.dropna(subset=['WholeFrame'])\n",
        "\n",
        "#merge both datasets\n",
        "sequenced_annotations = pd.merge_asof(sequences_nav_cleaned, wholeframe_annotations, on='time', direction='nearest')\n",
        "\n",
        "#view result\n",
        "sequenced_annotations"
      ],
      "metadata": {
        "id": "oRhldpiPT6qi"
      },
      "execution_count": null,
      "outputs": []
    },
    {
      "cell_type": "markdown",
      "source": [
        "## Step 4: Clean and Export Final Files"
      ],
      "metadata": {
        "id": "Qlo-jahGUCGf"
      }
    },
    {
      "cell_type": "code",
      "source": [
        "#delete unnecessary columns\n",
        "###CHANGE COLUMN NAMES, IF NEEDED###\n",
        "allannotations_georef.drop(['frames','hours', 'minutes', 'seconds', 'time'], axis=1, inplace=True)\n",
        "sequenced_annotations.drop(['frames', 'hours', 'minutes', 'seconds'], axis=1, inplace=True)"
      ],
      "metadata": {
        "id": "EJBa-idEUFT_"
      },
      "execution_count": null,
      "outputs": []
    },
    {
      "cell_type": "code",
      "source": [
        "#separate annotations into different categories\n",
        "species_annotations = allannotations_georef[allannotations_georef['shape_name'] != 'WholeFrame']\n",
        "substrate_type_annotations = sequenced_annotations[sequenced_annotations['WholeFrame'] == 'Substrate Type']\n",
        "transect_to_discard  = sequenced_annotations[sequenced_annotations['WholeFrame'] != 'Substrate Type']"
      ],
      "metadata": {
        "id": "z8Eua78mUIL0"
      },
      "execution_count": null,
      "outputs": []
    },
    {
      "cell_type": "code",
      "source": [
        "#export files\n",
        "allannotations_georef.to_csv('/content/allannotations_georef.csv', index=False) ###CHANGE TO YOUR FILE DIRECTORY###\n",
        "species_annotations.to_csv('/content/species_annotations.csv', index=False) ###CHANGE TO YOUR FILE DIRECTORY###\n",
        "substrate_type_annotations.to_csv('/content/substrate_type_annotations.csv', index=False) ###CHANGE TO YOUR FILE DIRECTORY###\n",
        "transect_to_discard.to_csv('/content/transect_to_discard.csv', index=False) ###CHANGE TO YOUR FILE DIRECTORY###"
      ],
      "metadata": {
        "id": "47uEzPxbUKdR"
      },
      "execution_count": null,
      "outputs": []
    }
  ]
}